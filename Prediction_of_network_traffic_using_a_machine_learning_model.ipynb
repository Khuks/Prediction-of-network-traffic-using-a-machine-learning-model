{
  "nbformat": 4,
  "nbformat_minor": 0,
  "metadata": {
    "colab": {
      "private_outputs": true,
      "provenance": [],
      "include_colab_link": true
    },
    "kernelspec": {
      "name": "python3",
      "display_name": "Python 3"
    },
    "language_info": {
      "name": "python"
    }
  },
  "cells": [
    {
      "cell_type": "markdown",
      "metadata": {
        "id": "view-in-github",
        "colab_type": "text"
      },
      "source": [
        "<a href=\"https://colab.research.google.com/github/Khuks/Prediction-of-network-traffic-using-a-machine-learning-model/blob/main/Prediction_of_network_traffic_using_a_machine_learning_model.ipynb\" target=\"_parent\"><img src=\"https://colab.research.google.com/assets/colab-badge.svg\" alt=\"Open In Colab\"/></a>"
      ]
    },
    {
      "cell_type": "markdown",
      "source": [
        "## Using Machine Learning Models To Predict Kwaluseni Campus Network Traffic"
      ],
      "metadata": {
        "id": "nFEwXXtyIMOG"
      }
    },
    {
      "cell_type": "markdown",
      "source": [
        "### 1. Data Preparation/ Data Preprocessing \n",
        "<br>\n",
        "<br>\n",
        "\n",
        "#### a) Import Libraries"
      ],
      "metadata": {
        "id": "CxGEhH0gIgHB"
      }
    },
    {
      "cell_type": "code",
      "execution_count": null,
      "metadata": {
        "id": "zF9yn5KCILBh"
      },
      "outputs": [],
      "source": [
        "import pandas as pd # For data manipulation and data wrangling\n",
        "import matplotlib.pyplot as plt\n",
        "import seaborn as sns\n",
        "import io\n",
        "from google.colab import files\n",
        "import math\n",
        "import numpy as np"
      ]
    },
    {
      "cell_type": "markdown",
      "source": [
        "#### b) Load the dataset"
      ],
      "metadata": {
        "id": "DqKgFwHxIMKR"
      }
    },
    {
      "cell_type": "code",
      "source": [
        "uploaded=files.upload()\n",
        "network_data=pd.read_excel(io.BytesIO(uploaded['KWS_Network_data.xlsx']))\n",
        "print(network_data)"
      ],
      "metadata": {
        "id": "yhxo_3ogJWcM"
      },
      "execution_count": null,
      "outputs": []
    },
    {
      "cell_type": "markdown",
      "source": [
        "#### c) Print the first five rows of the dataset"
      ],
      "metadata": {
        "id": "MPgZ220wKQTb"
      }
    },
    {
      "cell_type": "code",
      "source": [
        "network_data.head()"
      ],
      "metadata": {
        "id": "VNp78L-EJ3bp"
      },
      "execution_count": null,
      "outputs": []
    },
    {
      "cell_type": "markdown",
      "source": [
        "#### d) Check the information of the dataset"
      ],
      "metadata": {
        "id": "CYCNOdwuKcjG"
      }
    },
    {
      "cell_type": "code",
      "source": [
        "network_data.info()"
      ],
      "metadata": {
        "id": "IWWqNidWKlH4"
      },
      "execution_count": null,
      "outputs": []
    },
    {
      "cell_type": "markdown",
      "source": [
        "#### e) Check Descriptive Statistics "
      ],
      "metadata": {
        "id": "VSpDTiFcKvlR"
      }
    },
    {
      "cell_type": "code",
      "source": [
        "network_data.describe()"
      ],
      "metadata": {
        "id": "nBmDZZY7K3cw"
      },
      "execution_count": null,
      "outputs": []
    },
    {
      "cell_type": "markdown",
      "source": [],
      "metadata": {
        "id": "_-FmE7uDLp3J"
      }
    },
    {
      "cell_type": "markdown",
      "source": [
        "#### f) Check the shape of the dataset"
      ],
      "metadata": {
        "id": "2SaGyr9hLqSl"
      }
    },
    {
      "cell_type": "code",
      "source": [
        "network_data.shape"
      ],
      "metadata": {
        "id": "h54Qh8_CLuP_"
      },
      "execution_count": null,
      "outputs": []
    },
    {
      "cell_type": "markdown",
      "source": [
        "#### g) Check for Null Values"
      ],
      "metadata": {
        "id": "lR4DD8jkO-Wv"
      }
    },
    {
      "cell_type": "code",
      "source": [
        "network_data.isnull().sum()"
      ],
      "metadata": {
        "id": "yzpEVCJ2MC5m"
      },
      "execution_count": null,
      "outputs": []
    },
    {
      "cell_type": "markdown",
      "source": [
        "#### h) Drop Null Values"
      ],
      "metadata": {
        "id": "NMv1K8HrtBLc"
      }
    },
    {
      "cell_type": "code",
      "source": [
        "network_data=network_data.dropna()"
      ],
      "metadata": {
        "id": "F9G2Ro_hs1O0"
      },
      "execution_count": null,
      "outputs": []
    },
    {
      "cell_type": "code",
      "source": [
        "# Check the total number of null values\n",
        "network_data.isnull().sum()"
      ],
      "metadata": {
        "id": "keYJ7sfss-JQ"
      },
      "execution_count": null,
      "outputs": []
    },
    {
      "cell_type": "markdown",
      "source": [
        "The are no null values within the dataset"
      ],
      "metadata": {
        "id": "XiZDyHOBPSTx"
      }
    },
    {
      "cell_type": "markdown",
      "source": [],
      "metadata": {
        "id": "ypDjR6gfPDpM"
      }
    },
    {
      "cell_type": "markdown",
      "source": [
        "#### h) Check For Duplicates"
      ],
      "metadata": {
        "id": "ZmXwJjEwPECf"
      }
    },
    {
      "cell_type": "code",
      "source": [
        "network_data.duplicated().sum()"
      ],
      "metadata": {
        "id": "7L_peNsIMuSd"
      },
      "execution_count": null,
      "outputs": []
    },
    {
      "cell_type": "markdown",
      "source": [
        "The are no duplicates within the rows of the dataset."
      ],
      "metadata": {
        "id": "vOGlioH3PJ29"
      }
    },
    {
      "cell_type": "markdown",
      "source": [
        "### 2. Exploratory Data Analysis and Data Visualization"
      ],
      "metadata": {
        "id": "8sbntGZPPpEN"
      }
    },
    {
      "cell_type": "markdown",
      "source": [
        "##### a) Plot the amount of data being transmitted against traffic code"
      ],
      "metadata": {
        "id": "1UD3mvyJ38PC"
      }
    },
    {
      "cell_type": "code",
      "source": [
        "df_groups=network_data.groupby('Traffic Code')['Value(bps)'].sum()\n",
        "df_groups.plot(kind='bar')\n",
        "\n",
        "plt.xlabel(\"Traffic Code\")\n",
        "plt.ylabel(\"Value (bps) e+09\")\n",
        "plt.title(\"Amount Of Data Being Transmitted Against Traffic Code\",pad=40)\n",
        "plt.figure(figsize=(15, 10))"
      ],
      "metadata": {
        "id": "nNeWddWkSB1Q"
      },
      "execution_count": null,
      "outputs": []
    },
    {
      "cell_type": "markdown",
      "source": [
        "###### b) Plot the Distribution Of The Dataset"
      ],
      "metadata": {
        "id": "_qlguBdFVkwP"
      }
    },
    {
      "cell_type": "code",
      "source": [
        "plt.figure(1)\n",
        "plt.subplot(121)\n",
        "plt.title(\"Normal Distribution Curve For Value(bps)\")\n",
        "sns.distplot(network_data[\"Value(bps)\"]);\n",
        "\n",
        "plt.subplot(122)\n",
        "network_data[\"Value(bps)\"].plot.box(figsize=(16,5))\n",
        "plt.title(\"Determine Outliers For Value (bps)\")\n",
        "plt.ylabel(\"Vale(bps)\")\n",
        "plt.show()"
      ],
      "metadata": {
        "id": "3-rQ9kCOXAS8"
      },
      "execution_count": null,
      "outputs": []
    },
    {
      "cell_type": "markdown",
      "source": [
        "It can be inferred that most of the data in the distribution of Value (bps) is towards the left which means that it is normally distributed. We will try to make it normal in later sections as algorithms work better if the data is normally distributed.\n",
        "\n",
        "The boxplot confirms the presence of a lot of outliers/extreme values."
      ],
      "metadata": {
        "id": "yxA5mLeTYUZH"
      }
    },
    {
      "cell_type": "markdown",
      "source": [
        "###### d) Plot the Timestamp against Traffic Code"
      ],
      "metadata": {
        "id": "_lsr_XFU4Hkn"
      }
    },
    {
      "cell_type": "code",
      "source": [
        "df_groups=network_data.groupby('Traffic Code')[' Timestamp'].sum()\n",
        "df_groups.plot(kind='bar')\n",
        "plt.xlabel(\"Traffic Code\",fontsize = 10)\n",
        "plt.ylabel(\"Timestamp e+09\",fontsize = 10)\n",
        "plt.title(\"The Timestamp Against Traffic Code\",pad=40,fontsize = 15)\n",
        "plt.figure(figsize=(15, 10))"
      ],
      "metadata": {
        "id": "OMLmYeiNdtVU"
      },
      "execution_count": null,
      "outputs": []
    },
    {
      "cell_type": "markdown",
      "source": [
        "###### e) Plot the Distribution Of The Timestamp"
      ],
      "metadata": {
        "id": "Iu1an6I2anVZ"
      }
    },
    {
      "cell_type": "code",
      "source": [
        "plt.figure(1)\n",
        "plt.subplot(121)\n",
        "plt.title(\"Normal Distribution Curve For Timestamp\")\n",
        "sns.distplot(network_data[\" Timestamp\"]);\n",
        "\n",
        "plt.subplot(122)\n",
        "network_data[\" Timestamp\"].plot.box(figsize=(20,10))\n",
        "plt.title(\"Determine Outliers For Timestamp\")\n",
        "plt.ylabel(\"Timestamp\")\n",
        "plt.show()"
      ],
      "metadata": {
        "id": "vpFeDHe6bBxU"
      },
      "execution_count": null,
      "outputs": []
    },
    {
      "cell_type": "markdown",
      "source": [
        "It can be inferred that most of the data in the distribution of Value (bps) is towards the left which means that it is normally distributed. We will try to make it normal in later sections as algorithms work better if the data is normally distributed.\n",
        "\n",
        "The boxplot confirms the presence of a lot of outliers/extreme values."
      ],
      "metadata": {
        "id": "ij3N5ilJbgPh"
      }
    },
    {
      "cell_type": "markdown",
      "source": [
        "### 3. Feature Selection"
      ],
      "metadata": {
        "id": "aNgIs4nQ5aCr"
      }
    },
    {
      "cell_type": "markdown",
      "source": [
        "##### a) Plot the correlation heatmap to Determine the relationship between variables"
      ],
      "metadata": {
        "id": "Ws7RWCJsdqul"
      }
    },
    {
      "cell_type": "code",
      "source": [
        "heatmap_data=network_data.corr()\n",
        "f,ax=plt.subplots(figsize=(10,12))\n",
        "sns.heatmap(heatmap_data,vmax=.8,square=True,cmap=\"BuPu\",annot=True);"
      ],
      "metadata": {
        "id": "z7WhPHA4d108"
      },
      "execution_count": null,
      "outputs": []
    },
    {
      "cell_type": "markdown",
      "source": [
        "#### b) Pair Plot"
      ],
      "metadata": {
        "id": "0U6IdmWeggdt"
      }
    },
    {
      "cell_type": "code",
      "source": [
        "sns.pairplot(network_data)\n",
        "plt.tight_layout()"
      ],
      "metadata": {
        "id": "9Im0RAHrgl2o"
      },
      "execution_count": null,
      "outputs": []
    },
    {
      "cell_type": "markdown",
      "source": [
        "## 3. Building the Model"
      ],
      "metadata": {
        "id": "LrHQdzNiiIDz"
      }
    },
    {
      "cell_type": "markdown",
      "source": [
        "#### a) Splitting data into training and testing "
      ],
      "metadata": {
        "id": "vLy8Hji7iqdG"
      }
    },
    {
      "cell_type": "code",
      "source": [
        "#training =network_data.iloc[:math.ceil(len(network_data)*0.8)].copy()\n",
        "#testing=network_data.iloc[math.ceil(len(network_data)*0.8):].copy()'\n",
        "from sklearn import metrics"
      ],
      "metadata": {
        "id": "NOX7j6Rpipvj"
      },
      "execution_count": null,
      "outputs": []
    },
    {
      "cell_type": "markdown",
      "source": [
        "After creating new features, we can continue the model building process. So we will start with logistic regression model and then move over to more complex models like RandomForest, SVM and LSTM.\n",
        "\n",
        "We will build the following models in this section.\n",
        "\n",
        "i) Random Forest\n",
        "\n",
        "ii) SVM\n",
        "\n",
        "iii)Long Short Term Memory\n",
        "\n",
        "Let’s prepare the data for feeding into the models.\n",
        "\n",
        "We will use scikit-learn (sklearn) for making different models which is an open source library for Python. It is one of the most efficient tool which contains many inbuilt functions that can be used for modeling in Python.\n",
        "\n",
        "Sklearn requires the target variable in a separate dataset. So, we will drop our target variable from the train dataset and save it in another dataset.\n",
        "\n",
        "droping the target variable \"Value (bps)\""
      ],
      "metadata": {
        "id": "aKJZ_TvOc0m9"
      }
    },
    {
      "cell_type": "markdown",
      "source": [
        "Drop \"Value (bps)\""
      ],
      "metadata": {
        "id": "d5mh7YTVdrHR"
      }
    },
    {
      "cell_type": "code",
      "source": [
        "X=network_data.drop(\"Value(bps)\",1)"
      ],
      "metadata": {
        "id": "AqmbWxTyd9dV"
      },
      "execution_count": null,
      "outputs": []
    },
    {
      "cell_type": "code",
      "source": [
        "X.head(2)"
      ],
      "metadata": {
        "id": "T0yud96hflG4"
      },
      "execution_count": null,
      "outputs": []
    },
    {
      "cell_type": "markdown",
      "source": [
        "save the target variable \"Value (bps)\" in another dataset"
      ],
      "metadata": {
        "id": "_ertYBoUfxvm"
      }
    },
    {
      "cell_type": "code",
      "source": [
        "y=network_data[[\"Value(bps)\"]]"
      ],
      "metadata": {
        "id": "j-2Ou-u-f3Jh"
      },
      "execution_count": null,
      "outputs": []
    },
    {
      "cell_type": "code",
      "source": [
        "y.head(2)"
      ],
      "metadata": {
        "id": "kN0xoQPHf-Za"
      },
      "execution_count": null,
      "outputs": []
    },
    {
      "cell_type": "markdown",
      "source": [
        "Now we will make dummy variables for the categorical variables. Dummy variable turns categorical variables into a series of 0 and 1, making them lot easier to quantify and compare.\n",
        "\n",
        "Let us understand the process of dummies first:"
      ],
      "metadata": {
        "id": "56CVNaZxgJez"
      }
    },
    {
      "cell_type": "code",
      "source": [
        "X = pd.get_dummies(X)"
      ],
      "metadata": {
        "id": "GevJu7tGw96N"
      },
      "execution_count": null,
      "outputs": []
    },
    {
      "cell_type": "code",
      "source": [
        "X.head(3)"
      ],
      "metadata": {
        "id": "_XDKqp9sgVDA"
      },
      "execution_count": null,
      "outputs": []
    },
    {
      "cell_type": "code",
      "source": [
        "from sklearn.model_selection import train_test_split\n",
        "from sklearn.ensemble import RandomForestRegressor\n",
        "from sklearn.metrics import accuracy_score\n",
        "from sklearn.model_selection import cross_val_score\n",
        "from sklearn.metrics import accuracy_score,f1_score"
      ],
      "metadata": {
        "id": "v0Dqk-hchFPd"
      },
      "execution_count": null,
      "outputs": []
    },
    {
      "cell_type": "markdown",
      "source": [
        "# Random Forest Regression"
      ],
      "metadata": {
        "id": "FWdcAsNPhU8M"
      }
    },
    {
      "cell_type": "markdown",
      "source": [
        "#### a) Splitting the dataset into training and testing "
      ],
      "metadata": {
        "id": "1U0uPwQ942n9"
      }
    },
    {
      "cell_type": "code",
      "source": [
        "x_train,x_cv,y_train,y_cv=train_test_split(X,y,test_size=0.2,random_state=1)"
      ],
      "metadata": {
        "id": "_FtQxgoIhHy-"
      },
      "execution_count": null,
      "outputs": []
    },
    {
      "cell_type": "markdown",
      "source": [
        "#### b) Building the model"
      ],
      "metadata": {
        "id": "bB201qaL5DvW"
      }
    },
    {
      "cell_type": "code",
      "source": [
        "forest_model = RandomForestRegressor(random_state=1,max_depth=10,n_estimators=50)"
      ],
      "metadata": {
        "id": "jHVVoQsFiwuf"
      },
      "execution_count": null,
      "outputs": []
    },
    {
      "cell_type": "markdown",
      "source": [
        "#### c) Model Training "
      ],
      "metadata": {
        "id": "0OhwqW2n5K5i"
      }
    },
    {
      "cell_type": "code",
      "source": [
        "forest_model.fit(x_train,y_train.values.ravel())"
      ],
      "metadata": {
        "id": "tBN6rMP0i05r"
      },
      "execution_count": null,
      "outputs": []
    },
    {
      "cell_type": "markdown",
      "source": [
        "## Model Evaluation"
      ],
      "metadata": {
        "id": "QK2Ec4Eh5Qjf"
      }
    },
    {
      "cell_type": "markdown",
      "source": [
        "#### a) Model Evaluation on Training Dataset"
      ],
      "metadata": {
        "id": "awCueetA5grk"
      }
    },
    {
      "cell_type": "code",
      "source": [
        "random_forest_train_pred=forest_model.predict(x_train)\n",
        "random_forest_train_pred"
      ],
      "metadata": {
        "id": "UD4eDiBmi6xN"
      },
      "execution_count": null,
      "outputs": []
    },
    {
      "cell_type": "code",
      "source": [
        "random_forest_train_pred = pd.DataFrame(random_forest_train_pred)"
      ],
      "metadata": {
        "id": "aybhMDKj6zMf"
      },
      "execution_count": null,
      "outputs": []
    },
    {
      "cell_type": "code",
      "source": [
        "y_train= y_train.reset_index(drop=True)\n",
        "y_train"
      ],
      "metadata": {
        "id": "E4AyFtz26j1D"
      },
      "execution_count": null,
      "outputs": []
    },
    {
      "cell_type": "code",
      "source": [
        "#newdf = y_cv.drop(\"index\", axis=1)\n",
        "random_forest_train_pred =random_forest_train_pred.reset_index(drop=True)\n",
        "random_forest_train_pred"
      ],
      "metadata": {
        "id": "gg7nlOEcCz5S"
      },
      "execution_count": null,
      "outputs": []
    },
    {
      "cell_type": "code",
      "source": [
        "random_forest_train_pred[\"Y_Train_Prediction\"]=random_forest_train_pred"
      ],
      "metadata": {
        "id": "4YvdZ3po-I0J"
      },
      "execution_count": null,
      "outputs": []
    },
    {
      "cell_type": "code",
      "source": [
        "random_forest_train_pred"
      ],
      "metadata": {
        "id": "Hy6fK6at_clk"
      },
      "execution_count": null,
      "outputs": []
    },
    {
      "cell_type": "code",
      "source": [
        "random_forest_train_pred.drop(columns = random_forest_train_pred.columns[0], axis = 1, inplace= True)\n",
        "random_forest_train_pred"
      ],
      "metadata": {
        "id": "CgVqIWHAABIs"
      },
      "execution_count": null,
      "outputs": []
    },
    {
      "cell_type": "code",
      "source": [
        "# Model Evaluation on Training Dataset\n",
        "print('R^2:',metrics.r2_score(y_train,random_forest_train_pred))\n",
        "print('Adjusted R^2:',1 - (1-metrics.r2_score(y_train, random_forest_train_pred))*(len(y_train)-1)/(len(y_train)-random_forest_train_pred.shape[1]-1))\n",
        "print('MAE:',metrics.mean_absolute_error(y_train,random_forest_train_pred))\n",
        "print('MSE:',metrics.mean_squared_error(y_train,random_forest_train_pred))\n",
        "print('RMSE:',np.sqrt(metrics.mean_squared_error(y_train,random_forest_train_pred)))"
      ],
      "metadata": {
        "id": "YgojSoiyTYtO"
      },
      "execution_count": null,
      "outputs": []
    },
    {
      "cell_type": "code",
      "source": [
        "# Visualizing the differences between actual prices and predicted values\n",
        "plt.scatter(y_train,random_forest_train_pred)\n",
        "plt.xlabel(\"Value (bps)\")\n",
        "plt.ylabel(\"Predicted Value(bps)\")\n",
        "plt.title(\"Training Value(bps) vs Predicted Train Value(bps)-Random Forest\")\n",
        "plt.show()"
      ],
      "metadata": {
        "id": "Ti8nbhEO2ko3"
      },
      "execution_count": null,
      "outputs": []
    },
    {
      "cell_type": "markdown",
      "source": [
        "#### b) Model Evaluation on Testing Dataset"
      ],
      "metadata": {
        "id": "Xoz2Gqi3BEd9"
      }
    },
    {
      "cell_type": "code",
      "source": [
        "random_forest_test_pred=forest_model.predict(x_cv)\n",
        "random_forest_test_pred"
      ],
      "metadata": {
        "id": "pHOgrWFEBRWq"
      },
      "execution_count": null,
      "outputs": []
    },
    {
      "cell_type": "code",
      "source": [
        "random_forest_test_pred = pd.DataFrame(random_forest_test_pred)"
      ],
      "metadata": {
        "id": "0C-1WKVYBpMI"
      },
      "execution_count": null,
      "outputs": []
    },
    {
      "cell_type": "code",
      "source": [
        "y_cv= y_cv.reset_index(drop=True)\n",
        "y_cv"
      ],
      "metadata": {
        "id": "1TuwWgsZB0fa"
      },
      "execution_count": null,
      "outputs": []
    },
    {
      "cell_type": "code",
      "source": [
        "#newdf = y_cv.drop(\"index\", axis=1)\n",
        "random_forest_test_pred =random_forest_test_pred.reset_index(drop=True)\n",
        "random_forest_test_pred"
      ],
      "metadata": {
        "id": "KUskJfdlCEPO"
      },
      "execution_count": null,
      "outputs": []
    },
    {
      "cell_type": "code",
      "source": [
        "random_forest_test_pred[\"Y_Test_Prediction\"]=random_forest_test_pred"
      ],
      "metadata": {
        "id": "6Lhpzbe4Cz84"
      },
      "execution_count": null,
      "outputs": []
    },
    {
      "cell_type": "code",
      "source": [
        "random_forest_test_pred"
      ],
      "metadata": {
        "id": "1eRYPULvC8Jy"
      },
      "execution_count": null,
      "outputs": []
    },
    {
      "cell_type": "code",
      "source": [
        "random_forest_test_pred.drop(columns = random_forest_test_pred.columns[0], axis = 1, inplace= True)\n",
        "random_forest_test_pred"
      ],
      "metadata": {
        "id": "a9V39GuRDE1B"
      },
      "execution_count": null,
      "outputs": []
    },
    {
      "cell_type": "code",
      "source": [
        "# Model Evaluation on Training Dataset\n",
        "print('R^2:',metrics.r2_score(y_cv,random_forest_test_pred))\n",
        "print('Adjusted R^2:',1 - (1-metrics.r2_score(y_cv, random_forest_test_pred))*(len(y_cv)-1)/(len(y_cv)-random_forest_test_pred.shape[1]-1))\n",
        "print('MAE:',metrics.mean_absolute_error(y_cv,random_forest_test_pred))\n",
        "print('MSE:',metrics.mean_squared_error(y_cv,random_forest_test_pred))\n",
        "print('RMSE:',np.sqrt(metrics.mean_squared_error(y_cv,random_forest_test_pred)))"
      ],
      "metadata": {
        "id": "TFybPVNFDiLM"
      },
      "execution_count": null,
      "outputs": []
    },
    {
      "cell_type": "code",
      "source": [
        "# Visualizing the differences between actual prices and predicted values\n",
        "plt.scatter(y_cv,random_forest_test_pred)\n",
        "plt.xlabel(\"Value (bps)\")\n",
        "plt.ylabel(\"Test Predicted Value(bps)\")\n",
        "plt.title(\"Testing Value(bps) vs Predicted Train Value(bps)-Rand\")\n",
        "plt.show()"
      ],
      "metadata": {
        "id": "iaJ50TVdEDb_"
      },
      "execution_count": null,
      "outputs": []
    },
    {
      "cell_type": "code",
      "source": [
        "random_forest_test_pred.shape"
      ],
      "metadata": {
        "id": "L1lpLXWQE-np"
      },
      "execution_count": null,
      "outputs": []
    },
    {
      "cell_type": "code",
      "source": [
        "y_cv.shape"
      ],
      "metadata": {
        "id": "EyC7NjZLFA9o"
      },
      "execution_count": null,
      "outputs": []
    },
    {
      "cell_type": "markdown",
      "source": [
        "# XGBoost Regressor"
      ],
      "metadata": {
        "id": "EbU9ZMJtheUr"
      }
    },
    {
      "cell_type": "code",
      "source": [
        "import xgboost as xgb\n",
        "# Import XGBoost Regressor\n",
        "from xgboost import XGBRegressor"
      ],
      "metadata": {
        "id": "3VQGXe_Hhh6o"
      },
      "execution_count": null,
      "outputs": []
    },
    {
      "cell_type": "code",
      "source": [
        "#Create a XGBoost Regressor\n",
        "reg = XGBRegressor()\n",
        "\n"
      ],
      "metadata": {
        "id": "a88Fv4QalE6O"
      },
      "execution_count": null,
      "outputs": []
    },
    {
      "cell_type": "markdown",
      "source": [
        "#### a) Model Evaluation on Training Dataset (XGBoost)"
      ],
      "metadata": {
        "id": "lNoKRY4jKCdl"
      }
    },
    {
      "cell_type": "code",
      "source": [
        "# Train the model using the training sets \n",
        "reg.fit(x_train,y_train.values.ravel())"
      ],
      "metadata": {
        "id": "n3alWL5Pq3Xo"
      },
      "execution_count": null,
      "outputs": []
    },
    {
      "cell_type": "code",
      "source": [
        "xgb_pred_train = reg.predict(x_train)"
      ],
      "metadata": {
        "id": "2u2TUJrNn8lH"
      },
      "execution_count": null,
      "outputs": []
    },
    {
      "cell_type": "code",
      "source": [
        "xgb_pred_train"
      ],
      "metadata": {
        "id": "TuFrsEGVLVLt"
      },
      "execution_count": null,
      "outputs": []
    },
    {
      "cell_type": "code",
      "source": [
        "xgb_pred_train = pd.DataFrame(xgb_pred_train)"
      ],
      "metadata": {
        "id": "StbHOHRDOlxC"
      },
      "execution_count": null,
      "outputs": []
    },
    {
      "cell_type": "code",
      "source": [
        "xgb_pred_train"
      ],
      "metadata": {
        "id": "EbawlhfhOuwm"
      },
      "execution_count": null,
      "outputs": []
    },
    {
      "cell_type": "code",
      "source": [
        "xgb_pred_train[\"Y_Test_Prediction\"]=xgb_pred_train"
      ],
      "metadata": {
        "id": "wt-fW-PrPPVT"
      },
      "execution_count": null,
      "outputs": []
    },
    {
      "cell_type": "code",
      "source": [
        "xgb_pred_train"
      ],
      "metadata": {
        "id": "9Bq2VpqTPcat"
      },
      "execution_count": null,
      "outputs": []
    },
    {
      "cell_type": "code",
      "source": [
        "xgb_pred_train.drop(columns = xgb_pred_train.columns[0], axis = 1, inplace= True)\n",
        "xgb_pred_train"
      ],
      "metadata": {
        "id": "A7hGP3-sPmu7"
      },
      "execution_count": null,
      "outputs": []
    },
    {
      "cell_type": "code",
      "source": [
        "# Model Evaluation on Training Dataset\n",
        "print('R^2:',metrics.r2_score(y_train,xgb_pred_train))\n",
        "print('Adjusted R^2:',1 - (1-metrics.r2_score(y_train,xgb_pred_train))*(len(y_train)-1)/(len(y_train)-xgb_pred_train.shape[1]-1))\n",
        "print('MAE:',metrics.mean_absolute_error(y_train,xgb_pred_train))\n",
        "print('MSE:',metrics.mean_squared_error(y_train,xgb_pred_train))\n",
        "print('RMSE:',np.sqrt(metrics.mean_squared_error(y_train,xgb_pred_train)))"
      ],
      "metadata": {
        "id": "LbxTqqaaP2aD"
      },
      "execution_count": null,
      "outputs": []
    },
    {
      "cell_type": "code",
      "source": [
        "# Visualizing the differences between actual prices and predicted values\n",
        "plt.scatter(y_train,xgb_pred_train)\n",
        "plt.xlabel(\"Value (bps)\")\n",
        "plt.ylabel(\"Train Predicted Value(bps)\")\n",
        "plt.title(\"Train Value(bps) vs Predicted Train Value(bps)- XGBoost\")\n",
        "plt.show()"
      ],
      "metadata": {
        "id": "4vQOztfSQY31"
      },
      "execution_count": null,
      "outputs": []
    },
    {
      "cell_type": "markdown",
      "source": [
        "#### b) Model Evaluation on Testing Dataset - XGBoost"
      ],
      "metadata": {
        "id": "yYY7GOdzQ2s8"
      }
    },
    {
      "cell_type": "code",
      "source": [
        "xgb_pred_test = reg.predict(x_cv)"
      ],
      "metadata": {
        "id": "kkErCWikRUnn"
      },
      "execution_count": null,
      "outputs": []
    },
    {
      "cell_type": "code",
      "source": [
        "xgb_pred_test"
      ],
      "metadata": {
        "id": "XZ1bkCHOSkAD"
      },
      "execution_count": null,
      "outputs": []
    },
    {
      "cell_type": "code",
      "source": [
        "xgb_pred_test = pd.DataFrame(xgb_pred_test)\n",
        "xgb_pred_test"
      ],
      "metadata": {
        "id": "nehQKNwWS0Oj"
      },
      "execution_count": null,
      "outputs": []
    },
    {
      "cell_type": "code",
      "source": [
        "xgb_pred_test[\"Y_Test_Prediction\"]=xgb_pred_test"
      ],
      "metadata": {
        "id": "kOCYHIWpTNze"
      },
      "execution_count": null,
      "outputs": []
    },
    {
      "cell_type": "code",
      "source": [
        "xgb_pred_test"
      ],
      "metadata": {
        "id": "WVi2CT2TTuFM"
      },
      "execution_count": null,
      "outputs": []
    },
    {
      "cell_type": "code",
      "source": [
        "xgb_pred_test.drop(columns = xgb_pred_test.columns[0], axis = 1, inplace= True)\n",
        "xgb_pred_test"
      ],
      "metadata": {
        "id": "TEjwsM1ITuR4"
      },
      "execution_count": null,
      "outputs": []
    },
    {
      "cell_type": "code",
      "source": [
        "# Model Evaluation on Training Dataset\n",
        "print('R^2:',metrics.r2_score(y_cv,xgb_pred_test))\n",
        "print('Adjusted R^2:',1 - (1-metrics.r2_score(y_cv,xgb_pred_test))*(len(y_cv)-1)/(len(y_cv)-xgb_pred_test.shape[1]-1))\n",
        "print('MAE:',metrics.mean_absolute_error(y_cv,xgb_pred_test))\n",
        "print('MSE:',metrics.mean_squared_error(y_cv,xgb_pred_test))\n",
        "print('RMSE:',np.sqrt(metrics.mean_squared_error(y_cv,xgb_pred_test)))"
      ],
      "metadata": {
        "id": "x85gds9pUUIC"
      },
      "execution_count": null,
      "outputs": []
    },
    {
      "cell_type": "code",
      "source": [
        "# Visualizing the differences between actual prices and predicted values\n",
        "plt.scatter(y_cv,xgb_pred_test)\n",
        "plt.xlabel(\"Value (bps)\")\n",
        "plt.ylabel(\"Test Predicted Value(bps)\")\n",
        "plt.title(\"Test Value(bps) vs Predicted Test Value(bps)- XGBoost\")\n",
        "plt.show()"
      ],
      "metadata": {
        "id": "mvq0bQpXUud8"
      },
      "execution_count": null,
      "outputs": []
    }
  ]
}